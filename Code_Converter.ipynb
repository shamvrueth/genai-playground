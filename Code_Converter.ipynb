{
  "nbformat": 4,
  "nbformat_minor": 0,
  "metadata": {
    "colab": {
      "provenance": [],
      "gpuType": "T4",
      "authorship_tag": "ABX9TyPO7ubr7z92c69uW09Nz9Lx",
      "include_colab_link": true
    },
    "kernelspec": {
      "name": "python3",
      "display_name": "Python 3"
    },
    "language_info": {
      "name": "python"
    },
    "accelerator": "GPU"
  },
  "cells": [
    {
      "cell_type": "markdown",
      "metadata": {
        "id": "view-in-github",
        "colab_type": "text"
      },
      "source": [
        "<a href=\"https://colab.research.google.com/github/shamvrueth/genai-playground/blob/main/Code_Converter.ipynb\" target=\"_parent\"><img src=\"https://colab.research.google.com/assets/colab-badge.svg\" alt=\"Open In Colab\"/></a>"
      ]
    },
    {
      "cell_type": "code",
      "execution_count": null,
      "metadata": {
        "colab": {
          "base_uri": "https://localhost:8080/"
        },
        "id": "0aiV0ZK-uc40",
        "outputId": "5465bb0e-c48f-416b-a1ac-43a36770bffd"
      },
      "outputs": [
        {
          "output_type": "stream",
          "name": "stdout",
          "text": [
            "\u001b[2K     \u001b[90m━━━━━━━━━━━━━━━━━━━━━━━━━━━━━━━━━━━━━━━\u001b[0m \u001b[32m908.3/908.3 MB\u001b[0m \u001b[31m2.0 MB/s\u001b[0m eta \u001b[36m0:00:00\u001b[0m\n",
            "\u001b[2K     \u001b[90m━━━━━━━━━━━━━━━━━━━━━━━━━━━━━━━━━━━━━━━━\u001b[0m \u001b[32m7.3/7.3 MB\u001b[0m \u001b[31m55.7 MB/s\u001b[0m eta \u001b[36m0:00:00\u001b[0m\n",
            "\u001b[2K     \u001b[90m━━━━━━━━━━━━━━━━━━━━━━━━━━━━━━━━━━━━━━━━\u001b[0m \u001b[32m3.4/3.4 MB\u001b[0m \u001b[31m57.8 MB/s\u001b[0m eta \u001b[36m0:00:00\u001b[0m\n",
            "\u001b[2K     \u001b[90m━━━━━━━━━━━━━━━━━━━━━━━━━━━━━━━━━━━━━━━━\u001b[0m \u001b[32m24.6/24.6 MB\u001b[0m \u001b[31m53.7 MB/s\u001b[0m eta \u001b[36m0:00:00\u001b[0m\n",
            "\u001b[2K     \u001b[90m━━━━━━━━━━━━━━━━━━━━━━━━━━━━━━━━━━━━━━\u001b[0m \u001b[32m883.7/883.7 kB\u001b[0m \u001b[31m32.5 MB/s\u001b[0m eta \u001b[36m0:00:00\u001b[0m\n",
            "\u001b[2K     \u001b[90m━━━━━━━━━━━━━━━━━━━━━━━━━━━━━━━━━━━━━━━━\u001b[0m \u001b[32m13.8/13.8 MB\u001b[0m \u001b[31m38.2 MB/s\u001b[0m eta \u001b[36m0:00:00\u001b[0m\n",
            "\u001b[2K     \u001b[90m━━━━━━━━━━━━━━━━━━━━━━━━━━━━━━━━━━━━━\u001b[0m \u001b[32m664.8/664.8 MB\u001b[0m \u001b[31m849.6 kB/s\u001b[0m eta \u001b[36m0:00:00\u001b[0m\n",
            "\u001b[2K     \u001b[90m━━━━━━━━━━━━━━━━━━━━━━━━━━━━━━━━━━━━━━━\u001b[0m \u001b[32m363.4/363.4 MB\u001b[0m \u001b[31m4.2 MB/s\u001b[0m eta \u001b[36m0:00:00\u001b[0m\n",
            "\u001b[2K     \u001b[90m━━━━━━━━━━━━━━━━━━━━━━━━━━━━━━━━━━━━━━━\u001b[0m \u001b[32m211.5/211.5 MB\u001b[0m \u001b[31m6.1 MB/s\u001b[0m eta \u001b[36m0:00:00\u001b[0m\n",
            "\u001b[2K     \u001b[90m━━━━━━━━━━━━━━━━━━━━━━━━━━━━━━━━━━━━━━━━\u001b[0m \u001b[32m56.3/56.3 MB\u001b[0m \u001b[31m11.7 MB/s\u001b[0m eta \u001b[36m0:00:00\u001b[0m\n",
            "\u001b[2K     \u001b[90m━━━━━━━━━━━━━━━━━━━━━━━━━━━━━━━━━━━━━━━\u001b[0m \u001b[32m127.9/127.9 MB\u001b[0m \u001b[31m7.0 MB/s\u001b[0m eta \u001b[36m0:00:00\u001b[0m\n",
            "\u001b[2K     \u001b[90m━━━━━━━━━━━━━━━━━━━━━━━━━━━━━━━━━━━━━━━\u001b[0m \u001b[32m207.5/207.5 MB\u001b[0m \u001b[31m5.8 MB/s\u001b[0m eta \u001b[36m0:00:00\u001b[0m\n",
            "\u001b[2K     \u001b[90m━━━━━━━━━━━━━━━━━━━━━━━━━━━━━━━━━━━━━━━\u001b[0m \u001b[32m188.7/188.7 MB\u001b[0m \u001b[31m7.1 MB/s\u001b[0m eta \u001b[36m0:00:00\u001b[0m\n",
            "\u001b[2K     \u001b[90m━━━━━━━━━━━━━━━━━━━━━━━━━━━━━━━━━━━━━━━━\u001b[0m \u001b[32m21.1/21.1 MB\u001b[0m \u001b[31m91.3 MB/s\u001b[0m eta \u001b[36m0:00:00\u001b[0m\n",
            "\u001b[2K     \u001b[90m━━━━━━━━━━━━━━━━━━━━━━━━━━━━━━━━━━━━━━━\u001b[0m \u001b[32m209.5/209.5 MB\u001b[0m \u001b[31m6.2 MB/s\u001b[0m eta \u001b[36m0:00:00\u001b[0m\n",
            "\u001b[2K     \u001b[90m━━━━━━━━━━━━━━━━━━━━━━━━━━━━━━━━━━━━━━━━\u001b[0m \u001b[32m44.4/44.4 kB\u001b[0m \u001b[31m3.2 MB/s\u001b[0m eta \u001b[36m0:00:00\u001b[0m\n",
            "\u001b[2K   \u001b[90m━━━━━━━━━━━━━━━━━━━━━━━━━━━━━━━━━━━━━━━━\u001b[0m \u001b[32m67.0/67.0 MB\u001b[0m \u001b[31m11.9 MB/s\u001b[0m eta \u001b[36m0:00:00\u001b[0m\n",
            "\u001b[2K   \u001b[90m━━━━━━━━━━━━━━━━━━━━━━━━━━━━━━━━━━━━━━━━\u001b[0m \u001b[32m9.7/9.7 MB\u001b[0m \u001b[31m121.1 MB/s\u001b[0m eta \u001b[36m0:00:00\u001b[0m\n",
            "\u001b[2K   \u001b[90m━━━━━━━━━━━━━━━━━━━━━━━━━━━━━━━━━━━━━━━━\u001b[0m \u001b[32m336.6/336.6 kB\u001b[0m \u001b[31m26.3 MB/s\u001b[0m eta \u001b[36m0:00:00\u001b[0m\n",
            "\u001b[?25h"
          ]
        }
      ],
      "source": [
        "!pip install -q --upgrade torch==2.5.1+cu124 torchvision==0.20.1+cu124 torchaudio==2.5.1+cu124 --index-url https://download.pytorch.org/whl/cu124\n",
        "!pip install -q requests bitsandbytes==0.46.0 transformers==4.48.3 accelerate==1.3.0"
      ]
    },
    {
      "cell_type": "code",
      "source": [
        "import os\n",
        "import requests\n",
        "from IPython.display import Markdown, display, update_display\n",
        "from huggingface_hub import login\n",
        "from google.colab import userdata\n",
        "from transformers import AutoTokenizer, AutoModelForCausalLM, TextStreamer, BitsAndBytesConfig\n",
        "import torch\n",
        "import gradio as gr"
      ],
      "metadata": {
        "id": "5xy4LH9evO9N"
      },
      "execution_count": null,
      "outputs": []
    },
    {
      "cell_type": "code",
      "source": [
        "hf_token = userdata.get('HF_TOKEN')\n",
        "login(hf_token, add_to_git_credential=True)"
      ],
      "metadata": {
        "id": "rGCfdnc4vSC1"
      },
      "execution_count": null,
      "outputs": []
    },
    {
      "cell_type": "code",
      "source": [
        "QWEN = \"Qwen/CodeQwen1.5-7B-Chat\""
      ],
      "metadata": {
        "id": "_W3g_nUdvUnj"
      },
      "execution_count": null,
      "outputs": []
    },
    {
      "cell_type": "code",
      "source": [
        "SUPPORTED_LANGUAGES = sorted([\"python\", \"javascript\", \"java\", \"c\", \"cpp\", \"go\", \"rust\"])"
      ],
      "metadata": {
        "id": "qR07EdJ3vhcD"
      },
      "execution_count": null,
      "outputs": []
    },
    {
      "cell_type": "code",
      "source": [
        "tokenizer = AutoTokenizer.from_pretrained(QWEN) #automatically detect and load correct tokenizer for the model\n",
        "model = AutoModelForCausalLM.from_pretrained(QWEN, device_map=\"auto\", torch_dtype=\"auto\") #initializes correct architecture for the model"
      ],
      "metadata": {
        "colab": {
          "base_uri": "https://localhost:8080/",
          "height": 418,
          "referenced_widgets": [
            "45c4e6f86f05495a867d98bb29d88eb7",
            "8e6fa70332134feca947b46a2dae133c",
            "0423d621541244d3b16c2852f015dd07",
            "9a894f70cf074ece9d571e6f97a56549",
            "7e3fbf85d96a46d8a9e2202ad2c77745",
            "d26f9c59445d4889b17ba65a0af49d65",
            "0108525a15164d039f8496ecb6eb98fb",
            "0e6ec170f06242ba9e5a1d23f442c7e2",
            "544d49af7c7f488bb9862e70619ecff5",
            "25ae3b7c1f6c4e18869bcdd29a86eaa4",
            "69d41b63479b41a48ab3fa16866956fc",
            "ec7adb206e1249a9a82597d63d8d7e0b",
            "701e1c0ad0ea4cc688a434db71a19164",
            "0c9a378199a049fb9ff0ccb20e11bb7c",
            "1fc4305dc6ba403facd3031605de1059",
            "06daf44800924e87a0b0f912d2422ad5",
            "d82dda1a66bb40cd8a340142f2780682",
            "63d23087ede84f36b6b3f146dd22511d",
            "c9c31066c2f64367b94484d105dbbc9c",
            "0f35f1f8db66413f87ae22797b1a486b",
            "f8706e0183904b10888e0bd308842b35",
            "0908dc3a7c554ed0983b250b0789efaf",
            "f206dae4362d469d9f55110d722e2d1c",
            "f79d50a32fdb49068a6f80e6c86a6292",
            "84acd75a5de84b31992cce7f7c7ad5e7",
            "ba67f68c70214c75aa5cb0257f81eff2",
            "c24aa0536ced46b7b0527b37b4ace0bb",
            "baf1df98f29344cf983d5ee333de175f",
            "06928fccf4a14bb79e7a21a0553da2fa",
            "bad418ec6bcc4c08be61eec45d3a8288",
            "6450945067074cec9225aeee5dab8fc6",
            "68d78948ee9249f5b46d1d2fe6834d19",
            "1cf86def4cfc426680fd826ca1a83680",
            "0c1c220f2ed84b15b80d8edb258270f3",
            "ecc18982ab404d74a79858a5eb4de3f5",
            "b1e3f36dc9ed4f2ea7930e7c7eb4a99d",
            "869ca89bcda44ae2bb98fc6b307018cf",
            "09fc0abe7c9643cdb460490fc77b3318",
            "325e58cfa5c943b5a16ff2a01d4962b8",
            "021f3e35ea6e4e55864cf2b28b0139ab",
            "af53359b2d0c4e0f947df6b55c67363d",
            "23f3582411d14f1aa7b0d85f6a2268a7",
            "fe42cf83d5014f1f9472d1eac8a048bf",
            "eeda31ae5c6147ce83e4538cc4f1f121",
            "3785b24ae19e4c51aa900cc57b9fbb75",
            "b5fab1068f50414caeef27fb6301919c",
            "adb9c4bfbe4a4e21b5f0079039bc997c",
            "e0d99106c6444aa7a419612bc6d131a0",
            "9fb6cf5459304fcab65f7c24b62403b0",
            "b6ada554bea74cf784ce579ff02b1f2a",
            "86ca078b0dc14745b24358467759b1c0",
            "498cf47592d147148c82563c5d36b1b6",
            "c3bde49056a946b2ab45d99ad0591b79",
            "1cdc4f2053f24754bd34688641bb81dc",
            "0948a5a53d374cea9d1ff83efa48cd10",
            "373bf05af0c349108a6817fe5b01b3ee",
            "d54abb48cdd94c74bde58ecd071ff67f",
            "e239ebd104944a79946ba477352fb28b",
            "4ab23dbfdf7849498125a963589fb951",
            "aec2816b979043f0913dfc55f4943810",
            "1959813b669a458490618a500dcc6612",
            "7d366755bcaa4ee3b2e2ae42052eb845",
            "cb6ab43fa03f4681b1964ad212761cb2",
            "e5e4e41b704c4343b2e5654d6d1ab9a9",
            "a25fc1a2148347de915da428de1c89e3",
            "1a0c8771f62b42e7b9fc8ef3e4c19c90",
            "687941bbf3464547b752c2960b079ec1",
            "c9ebf79757ae44afb47a4cad4805fca0",
            "17e5eaa019e34ae3a6bd11cb41cdd549",
            "d5375e4ad9fa4d7db681807ea4aa8bf7",
            "cab74969add84023abbfe85bf8975a4f",
            "c149b99fa40c481cbc7b2fc24db10866",
            "3aa407ce7fa949d893b83d4a9580d366",
            "51d69a235ec6482facfa52c2b28a2e3b",
            "b2a9f20de589432c8b109155ec10a273",
            "57a007249e584a5da0bf3391ffb9b650",
            "0fc30511b08f4ef0bab3e7689d79153b",
            "2e7cb25f683f489bbf8bb8ab9eb9d328",
            "e5a089bde9fd46ab91b5e3dbad7e6061",
            "51abae6d81854c3c971363d30d45a52a",
            "9e2634b42ebc402280eeba02cfbd943d",
            "b1e32254a3434464a370b31d9a2f0b04",
            "798b682d81ff4e1395b7ef9286697939",
            "9b7a94a3b2884a9a97972d74bd6f9000",
            "df10e5896a5f404bb8e3cb461a9d0704",
            "54520d27bc9947069de677a93d7ebd44",
            "716248006b85425897c4662c693694ab",
            "f8e9ba0ea92b405898fd54be98b18055",
            "10c6a6569a394047a09bf7385262a401",
            "1b27989ce22046f391339101bc5d4e3e",
            "f108641812344841a924ece82961dee0",
            "5046fcd0720a4bb8a2bd9ed699fd1cab",
            "87109e4547254f8c95fdd9b9dc692b7f",
            "093febd2437c45eebd9098e5beaf8b3f",
            "d174b99d9c2649228f093e57291ecfc6",
            "c235b9754d4948ebb01481c109f17707",
            "d65314994aff489480070b3411db9551",
            "11aae8140acd44099631cbe1f514e400",
            "9816b7196eb24ef5b74f6d5b7acd7bc8",
            "5e1fdb06b73444f888fb9487c4d2ab5f",
            "28411bae2ed843bf97413e0c2347bd64",
            "f954b6daabff44c9ba1bb071e0dc88e1",
            "9c692cc509e84d808fc5fa3f4442329b",
            "802b94e0fb90492bad9a9e4a24b48bbf",
            "5c4af988679b4c38bbee7cf255694e4c",
            "25771818587b452a9f330e7c526d1b46",
            "c6450a0d3daf45909052deba25df041e",
            "2a9785f2b93a420b8a4ea536124d3a2f",
            "14554df2d894477183b6e10bb4d11ba7",
            "af6a89f1dfa541a2ad3d24820ca108a4",
            "8c448609a65448af96015269fc0eb7d8",
            "e7e4d2bedd4e49ae8ad750a7b053acbe",
            "9f9d45950ad341d39946bab1219fd8a8",
            "60740cb1f6c9420cb7a762263af94aa0",
            "8d8ba3b3788e46bca92495797219b33c",
            "f9092a610f13461297d57fc27448f6c6",
            "25c884435d3f4a8e8899208f831a6b6a",
            "a635782c5e424915907147cbf8fc2888",
            "bb64bc41902144ed8b13c650eb1a7226",
            "a5f72f4c36d84466bda18eac1f34906c",
            "7a3dc34a3bf14668bf92a182fa954e3e",
            "37f6cac1ea6e4028934ecfbe3e65fe24",
            "d880bd2de999418798bf66667c93a2d6",
            "76c313e0461f449a8b4cc3b8d28ffea1",
            "c2e68f640e8e44e49a21b7bed6f3b30d",
            "c9a5521eef6a48f8a6c299a33e3f4812",
            "49e292b7aec74d3981966fef869d4c67",
            "70ca0c02aaeb481985f6f4a23f924c5f",
            "f0ebabaa57c24361843ce2dc06420a28",
            "47a2b6aed92b4dc583d72060d9f13d52",
            "5b548372f12a4da4b289506fbbc21d8b",
            "94ade4c21e0d4ac88658a1a634678d21"
          ]
        },
        "id": "w--kApDsxfHp",
        "outputId": "fd2adb2a-5551-4642-b067-074e679a8158"
      },
      "execution_count": null,
      "outputs": [
        {
          "output_type": "display_data",
          "data": {
            "text/plain": [
              "tokenizer_config.json:   0%|          | 0.00/972 [00:00<?, ?B/s]"
            ],
            "application/vnd.jupyter.widget-view+json": {
              "version_major": 2,
              "version_minor": 0,
              "model_id": "45c4e6f86f05495a867d98bb29d88eb7"
            }
          },
          "metadata": {}
        },
        {
          "output_type": "display_data",
          "data": {
            "text/plain": [
              "tokenizer.json: 0.00B [00:00, ?B/s]"
            ],
            "application/vnd.jupyter.widget-view+json": {
              "version_major": 2,
              "version_minor": 0,
              "model_id": "ec7adb206e1249a9a82597d63d8d7e0b"
            }
          },
          "metadata": {}
        },
        {
          "output_type": "display_data",
          "data": {
            "text/plain": [
              "tokenizer.model:   0%|          | 0.00/1.42M [00:00<?, ?B/s]"
            ],
            "application/vnd.jupyter.widget-view+json": {
              "version_major": 2,
              "version_minor": 0,
              "model_id": "f206dae4362d469d9f55110d722e2d1c"
            }
          },
          "metadata": {}
        },
        {
          "output_type": "display_data",
          "data": {
            "text/plain": [
              "config.json:   0%|          | 0.00/701 [00:00<?, ?B/s]"
            ],
            "application/vnd.jupyter.widget-view+json": {
              "version_major": 2,
              "version_minor": 0,
              "model_id": "0c1c220f2ed84b15b80d8edb258270f3"
            }
          },
          "metadata": {}
        },
        {
          "output_type": "display_data",
          "data": {
            "text/plain": [
              "model.safetensors.index.json: 0.00B [00:00, ?B/s]"
            ],
            "application/vnd.jupyter.widget-view+json": {
              "version_major": 2,
              "version_minor": 0,
              "model_id": "3785b24ae19e4c51aa900cc57b9fbb75"
            }
          },
          "metadata": {}
        },
        {
          "output_type": "display_data",
          "data": {
            "text/plain": [
              "Downloading shards:   0%|          | 0/4 [00:00<?, ?it/s]"
            ],
            "application/vnd.jupyter.widget-view+json": {
              "version_major": 2,
              "version_minor": 0,
              "model_id": "373bf05af0c349108a6817fe5b01b3ee"
            }
          },
          "metadata": {}
        },
        {
          "output_type": "display_data",
          "data": {
            "text/plain": [
              "model-00001-of-00004.safetensors:   0%|          | 0.00/3.89G [00:00<?, ?B/s]"
            ],
            "application/vnd.jupyter.widget-view+json": {
              "version_major": 2,
              "version_minor": 0,
              "model_id": "687941bbf3464547b752c2960b079ec1"
            }
          },
          "metadata": {}
        },
        {
          "output_type": "display_data",
          "data": {
            "text/plain": [
              "model-00002-of-00004.safetensors:   0%|          | 0.00/3.95G [00:00<?, ?B/s]"
            ],
            "application/vnd.jupyter.widget-view+json": {
              "version_major": 2,
              "version_minor": 0,
              "model_id": "2e7cb25f683f489bbf8bb8ab9eb9d328"
            }
          },
          "metadata": {}
        },
        {
          "output_type": "display_data",
          "data": {
            "text/plain": [
              "model-00003-of-00004.safetensors:   0%|          | 0.00/3.95G [00:00<?, ?B/s]"
            ],
            "application/vnd.jupyter.widget-view+json": {
              "version_major": 2,
              "version_minor": 0,
              "model_id": "10c6a6569a394047a09bf7385262a401"
            }
          },
          "metadata": {}
        },
        {
          "output_type": "display_data",
          "data": {
            "text/plain": [
              "model-00004-of-00004.safetensors:   0%|          | 0.00/2.71G [00:00<?, ?B/s]"
            ],
            "application/vnd.jupyter.widget-view+json": {
              "version_major": 2,
              "version_minor": 0,
              "model_id": "5e1fdb06b73444f888fb9487c4d2ab5f"
            }
          },
          "metadata": {}
        },
        {
          "output_type": "display_data",
          "data": {
            "text/plain": [
              "Loading checkpoint shards:   0%|          | 0/4 [00:00<?, ?it/s]"
            ],
            "application/vnd.jupyter.widget-view+json": {
              "version_major": 2,
              "version_minor": 0,
              "model_id": "8c448609a65448af96015269fc0eb7d8"
            }
          },
          "metadata": {}
        },
        {
          "output_type": "display_data",
          "data": {
            "text/plain": [
              "generation_config.json:   0%|          | 0.00/212 [00:00<?, ?B/s]"
            ],
            "application/vnd.jupyter.widget-view+json": {
              "version_major": 2,
              "version_minor": 0,
              "model_id": "37f6cac1ea6e4028934ecfbe3e65fe24"
            }
          },
          "metadata": {}
        },
        {
          "output_type": "stream",
          "name": "stderr",
          "text": [
            "WARNING:accelerate.big_modeling:Some parameters are on the meta device because they were offloaded to the cpu.\n"
          ]
        }
      ]
    },
    {
      "cell_type": "code",
      "source": [
        "from transformers import TextIteratorStreamer\n",
        "from threading import Thread\n",
        "\n",
        "def code_converter(code, source_lang, target_lang):\n",
        "  prompt = (\n",
        "    f\"You are an expert code converter. \"\n",
        "    f\"Translate the following {source_lang} code into {target_lang}. \"\n",
        "    f\"Provide ONLY the translated code in a single, clean code block. Do not include explanations, comments, or any extra text.\"\n",
        "    f\"\\n\\n```{source_lang}\\n{code}\\n```\"\n",
        "  )\n",
        "  messages = [\n",
        "    {\"role\": \"system\", \"content\": \"You are a helpful assistant that translates code accurately.\"},\n",
        "    {\"role\": \"user\", \"content\": prompt}\n",
        "  ]\n",
        "  inputs = tokenizer.apply_chat_template(messages, add_generation_prompt=True, return_tensors=\"pt\").to(\"cuda\") #convert chat messages to tokens\n",
        "  streamer = TextIteratorStreamer(tokenizer, skip_prompt=True, skip_special_tokens=True) #initializes streamer for streaming response of model\n",
        "  generation_kwargs = {\"input_ids\": inputs, \"streamer\": streamer, \"max_new_tokens\": 2000, \"do_sample\": True, \"top_p\": 0.9, \"temperature\": 0.7}\n",
        "  thread = Thread(target=model.generate, kwargs=generation_kwargs) #generation_kwargs = parameters for model.generate\n",
        "  thread.start()\n",
        "  response = \"\"\n",
        "  for new_text in streamer:\n",
        "    response += new_text\n",
        "    yield response"
      ],
      "metadata": {
        "id": "vafzjUFmx7OB"
      },
      "execution_count": null,
      "outputs": []
    },
    {
      "cell_type": "code",
      "source": [
        "with gr.Blocks(theme=gr.themes.Soft(), title=\"AI Code Converter\") as demo:\n",
        "    with gr.Row():\n",
        "        with gr.Column(scale=1):\n",
        "            source_lang_dd = gr.Dropdown(\n",
        "                label=\"Source Language\",\n",
        "                choices=SUPPORTED_LANGUAGES,\n",
        "                value=\"python\"\n",
        "            )\n",
        "            target_lang_dd = gr.Dropdown(\n",
        "                label=\"Target Language\",\n",
        "                choices=SUPPORTED_LANGUAGES,\n",
        "                value=\"javascript\"\n",
        "            )\n",
        "            convert_btn = gr.Button(\"Convert Code\", variant=\"primary\", scale=1)\n",
        "\n",
        "        with gr.Column(scale=2):\n",
        "            source_code_input = gr.Code(\n",
        "                label=\"Source Code\",\n",
        "                language=\"python\",\n",
        "                lines=20\n",
        "            )\n",
        "            converted_code_output = gr.Code(\n",
        "                label=\"Converted Code\",\n",
        "                language=\"javascript\",\n",
        "                lines=20,\n",
        "                interactive=False # Make it read-only\n",
        "            )\n",
        "\n",
        "    source_lang_dd.change(lambda lang: gr.update(language=lang), inputs=source_lang_dd, outputs=source_code_input)\n",
        "    target_lang_dd.change(lambda lang: gr.update(language=lang), inputs=target_lang_dd, outputs=converted_code_output)\n",
        "\n",
        "    # The main conversion action\n",
        "    convert_btn.click(\n",
        "        fn=code_converter,\n",
        "        inputs=[source_code_input, source_lang_dd, target_lang_dd],\n",
        "        outputs=converted_code_output,\n",
        "        api_name=\"convert\"\n",
        "    )\n",
        "\n",
        "    # Add examples for users to try\n",
        "    gr.Examples(\n",
        "        examples=[\n",
        "            [\n",
        "                \"def factorial(n):\\n    if n == 0:\\n        return 1\\n    else:\\n        return n * factorial(n-1)\",\n",
        "                \"python\",\n",
        "                \"go\"\n",
        "            ],\n",
        "            [\n",
        "                \"public class HelloWorld {\\n    public static void main(String[] args) {\\n        System.out.println(\\\"Hello, World!\\\");\\n    }\\n}\",\n",
        "                \"java\",\n",
        "                \"rust\"\n",
        "            ],\n",
        "        ],\n",
        "        inputs=[source_code_input, source_lang_dd, target_lang_dd],\n",
        "        outputs=converted_code_output,\n",
        "        fn=code_converter,\n",
        "        cache_examples=True\n",
        "    )"
      ],
      "metadata": {
        "id": "OqkmZtLg1Ll8"
      },
      "execution_count": null,
      "outputs": []
    },
    {
      "cell_type": "code",
      "source": [
        "demo.launch(share=False)"
      ],
      "metadata": {
        "colab": {
          "base_uri": "https://localhost:8080/",
          "height": 616
        },
        "id": "8ImHZiov1czX",
        "outputId": "6627163d-d946-4d44-a010-4580b9dd256f"
      },
      "execution_count": null,
      "outputs": [
        {
          "output_type": "stream",
          "name": "stdout",
          "text": [
            "Caching examples at: '/content/.gradio/cached_examples/22'\n",
            "Colab notebook detected. To show errors in colab notebook, set debug=True in launch()\n",
            "Note: opening Chrome Inspector may crash demo inside Colab notebooks.\n",
            "* To create a public link, set `share=True` in `launch()`.\n"
          ]
        },
        {
          "output_type": "display_data",
          "data": {
            "text/plain": [
              "<IPython.core.display.Javascript object>"
            ],
            "application/javascript": [
              "(async (port, path, width, height, cache, element) => {\n",
              "                        if (!google.colab.kernel.accessAllowed && !cache) {\n",
              "                            return;\n",
              "                        }\n",
              "                        element.appendChild(document.createTextNode(''));\n",
              "                        const url = await google.colab.kernel.proxyPort(port, {cache});\n",
              "\n",
              "                        const external_link = document.createElement('div');\n",
              "                        external_link.innerHTML = `\n",
              "                            <div style=\"font-family: monospace; margin-bottom: 0.5rem\">\n",
              "                                Running on <a href=${new URL(path, url).toString()} target=\"_blank\">\n",
              "                                    https://localhost:${port}${path}\n",
              "                                </a>\n",
              "                            </div>\n",
              "                        `;\n",
              "                        element.appendChild(external_link);\n",
              "\n",
              "                        const iframe = document.createElement('iframe');\n",
              "                        iframe.src = new URL(path, url).toString();\n",
              "                        iframe.height = height;\n",
              "                        iframe.allow = \"autoplay; camera; microphone; clipboard-read; clipboard-write;\"\n",
              "                        iframe.width = width;\n",
              "                        iframe.style.border = 0;\n",
              "                        element.appendChild(iframe);\n",
              "                    })(7860, \"/\", \"100%\", 500, false, window.element)"
            ]
          },
          "metadata": {}
        },
        {
          "output_type": "execute_result",
          "data": {
            "text/plain": []
          },
          "metadata": {},
          "execution_count": 10
        }
      ]
    },
    {
      "cell_type": "code",
      "source": [],
      "metadata": {
        "id": "dvYs722F1mFi"
      },
      "execution_count": null,
      "outputs": []
    }
  ]
}
